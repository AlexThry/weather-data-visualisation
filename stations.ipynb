{
 "cells": [
  {
   "cell_type": "markdown",
   "metadata": {},
   "source": [
    "imports"
   ]
  },
  {
   "cell_type": "code",
   "execution_count": 3,
   "metadata": {},
   "outputs": [],
   "source": [
    "import pandas as pd"
   ]
  },
  {
   "cell_type": "markdown",
   "metadata": {},
   "source": [
    "## Récupérer toutes les stations par type"
   ]
  },
  {
   "cell_type": "code",
   "execution_count": 4,
   "metadata": {},
   "outputs": [
    {
     "name": "stdout",
     "output_type": "stream",
     "text": [
      "     num_poste  latitude(°)  longitude(°) type\n",
      "0      6088001       43.649         7.209   IN\n",
      "1     13054001       43.438         5.216   IN\n",
      "2     16089001       45.665        -0.316   IN\n",
      "3     18033001       47.059         2.360   IN\n",
      "4     21473001       47.268         5.088   IN\n",
      "..         ...          ...           ...  ...\n",
      "277   91103001       48.601         2.326   TX\n",
      "278   91184001       48.422         2.374   TX\n",
      "279   94068001       48.809         2.492   TX\n",
      "280   95078001       49.090         2.029   TX\n",
      "281   95088001       48.967         2.428   TX\n",
      "\n",
      "[1498 rows x 4 columns]\n"
     ]
    }
   ],
   "source": [
    "insolation = pd.read_csv('data/Liste_SH_IN_metro.csv', sep=\";\", skiprows=2)\n",
    "precipitation = pd.read_csv('data/Liste_SH_RR_metro.csv', sep=\";\", skiprows=2)\n",
    "temp_min = pd.read_csv('data/Liste_SH_TN_metro.csv', sep=\";\", skiprows=2)\n",
    "temp_max = pd.read_csv('data/Liste_SH_TX_metro.csv', sep=\";\", skiprows=2)\n",
    "unique_postes_insolation = insolation[['num_poste','latitude(°)','longitude(°)']].groupby('num_poste').first().reset_index()\n",
    "unique_postes_precipitation = precipitation[['num_poste','latitude(°)','longitude(°)']].groupby('num_poste').first().reset_index()\n",
    "unique_postes_temp_min = temp_min[['num_poste','latitude(°)','longitude(°)']].groupby('num_poste').first().reset_index()\n",
    "unique_postes_temp_max = temp_max[['num_poste','latitude(°)','longitude(°)']].groupby('num_poste').first().reset_index()\n",
    "\n",
    "unique_postes_insolation['type'] = 'IN'\n",
    "unique_postes_precipitation['type'] = 'RR'\n",
    "unique_postes_temp_min['type'] = 'TN'\n",
    "unique_postes_temp_max['type'] = 'TX'\n",
    "\n",
    "df = pd.concat([unique_postes_insolation, unique_postes_precipitation, unique_postes_temp_min, unique_postes_temp_max])\n",
    "\n",
    "print(df)\n",
    "df.to_csv('final_data/postes_meteo.csv',index=False)\n",
    "\n",
    "\n"
   ]
  }
 ],
 "metadata": {
  "kernelspec": {
   "display_name": "Python 3",
   "language": "python",
   "name": "python3"
  },
  "language_info": {
   "codemirror_mode": {
    "name": "ipython",
    "version": 3
   },
   "file_extension": ".py",
   "mimetype": "text/x-python",
   "name": "python",
   "nbconvert_exporter": "python",
   "pygments_lexer": "ipython3",
   "version": "3.10.9"
  }
 },
 "nbformat": 4,
 "nbformat_minor": 2
}
